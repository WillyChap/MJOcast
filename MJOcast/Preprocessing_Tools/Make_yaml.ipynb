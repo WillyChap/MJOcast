{
 "cells": [
  {
   "cell_type": "code",
   "execution_count": 1,
   "id": "95c47721-b016-4f93-99ee-fb092acecd09",
   "metadata": {},
   "outputs": [],
   "source": [
    "import yaml"
   ]
  },
  {
   "cell_type": "markdown",
   "id": "f9f93528-3922-48fa-87d8-8f81d08f3c7c",
   "metadata": {},
   "source": [
    "## Settings"
   ]
  },
  {
   "cell_type": "code",
   "execution_count": 22,
   "id": "2de77a4d-ed18-47a9-a988-cf8f2ffffb52",
   "metadata": {},
   "outputs": [],
   "source": [
    "user_ = 'wchapman'\n",
    "base_dir = '/glade/work/wchapman/MJOcast/MJOcast'\n",
    "use_era5 = False \n",
    "usr_named_obs = 'alternative_name_of_obs.nc'\n",
    "obs_data_loc = './Observations/'\n",
    "forecast_data_loc = '/glade/scratch/wchapman/MJO_S2S_CESM2/p1/'\n",
    "forecast_data_name_str = 'S2Shindcast_cesm2cam6vs_MJOvars_*.nc'\n",
    "forecast_olr_name= 'rlut'\n",
    "forecast_u200_name= 'ua_200'\n",
    "forecast_u850_name= 'ua_850'\n",
    "forecast_ensemble_dimension_name= 'ensemble'\n",
    "output_plot_loc='./output_plots/'\n",
    "#Location where output files are stored: \n",
    "output_files_loc='/glade/scratch/wchapman/MJO_S2S_CESM2/RMM_forecast/ERA5/'\n",
    "#How the MJO Forecasts should be named:\n",
    "output_files_string='/MJO_Forecast_Init'\n",
    "use_forecast_climo= True\n",
    "#this is always false if \"use_forecast_climo=true\"\n",
    "use_observed_climo= False\n",
    "regenerate_climo= False\n",
    "#single node/machine:\n",
    "use_dask_for_climo= True \n",
    "#single node/machine:\n",
    "regenerate_climo= False\n",
    "# ---- Forecast Climatology ----"
   ]
  },
  {
   "cell_type": "code",
   "execution_count": 23,
   "id": "4de956fc-f1c1-43e4-9918-2b6b0c8412a8",
   "metadata": {},
   "outputs": [],
   "source": [
    "import yaml\n",
    "\n",
    "def Create_Yaml(filename, user_, base_dir, use_era5, usr_named_obs, obs_data_loc, forecast_data_loc, forecast_data_name_str, \n",
    "                forecast_olr_name, forecast_u200_name, forecast_u850_name, forecast_ensemble_dimension_name, \n",
    "                output_plot_loc, output_files_loc, output_files_string, use_forecast_climo, use_observed_climo, \n",
    "                regenerate_climo, use_dask_for_climo):\n",
    "    Total_yaml = {\n",
    "        'user': user_,\n",
    "        'base_dir': base_dir,\n",
    "        'user_defined_info': {\n",
    "            'use_era5': use_era5,\n",
    "            'usr_named_obs': usr_named_obs,\n",
    "            'obs_data_loc': obs_data_loc,\n",
    "            'forecast_data_loc': forecast_data_loc,\n",
    "            'forecast_data_name_str': forecast_data_name_str,\n",
    "            'forecast_olr_name': forecast_olr_name,\n",
    "            'forecast_u200_name': forecast_u200_name,\n",
    "            'forecast_u850_name': forecast_u850_name,\n",
    "            'forecast_ensemble_dimension_name': forecast_ensemble_dimension_name,\n",
    "            'output_plot_loc': output_plot_loc,\n",
    "            'output_files_loc': output_files_loc,\n",
    "            'output_files_string': output_files_string,\n",
    "            'use_forecast_climo': use_forecast_climo,\n",
    "            'use_observed_climo': use_observed_climo,\n",
    "            'regenerate_climo': regenerate_climo,\n",
    "            'use_dask_for_climo': use_dask_for_climo,\n",
    "            'regenerate_climo': regenerate_climo\n",
    "        }\n",
    "    }\n",
    "\n",
    "    with open(filename, 'w') as yaml_file:\n",
    "        yaml.dump(Total_yaml, yaml_file, default_flow_style=False)\n",
    "\n",
    "# Call the function with the desired variable values and filename\n",
    "Create_Yaml('output.yaml', user_, base_dir, use_era5, usr_named_obs, obs_data_loc, forecast_data_loc, forecast_data_name_str, \n",
    "            forecast_olr_name, forecast_u200_name, forecast_u850_name, forecast_ensemble_dimension_name, \n",
    "            output_plot_loc, output_files_loc, output_files_string, use_forecast_climo, use_observed_climo, \n",
    "            regenerate_climo, use_dask_for_climo)\n"
   ]
  },
  {
   "cell_type": "code",
   "execution_count": null,
   "id": "09217c62-8064-4b01-a29f-7b3d0eb648db",
   "metadata": {},
   "outputs": [],
   "source": []
  }
 ],
 "metadata": {
  "kernelspec": {
   "display_name": "NPL 2023a",
   "language": "python",
   "name": "npl-2023a"
  },
  "language_info": {
   "codemirror_mode": {
    "name": "ipython",
    "version": 3
   },
   "file_extension": ".py",
   "mimetype": "text/x-python",
   "name": "python",
   "nbconvert_exporter": "python",
   "pygments_lexer": "ipython3",
   "version": "3.9.16"
  }
 },
 "nbformat": 4,
 "nbformat_minor": 5
}
