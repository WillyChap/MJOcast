{
 "cells": [
  {
   "cell_type": "code",
   "execution_count": 1,
   "id": "c50546e1-aa67-4cf2-ba33-f0c90428e378",
   "metadata": {},
   "outputs": [
    {
     "ename": "NameError",
     "evalue": "name 'Create_Yaml' is not defined",
     "output_type": "error",
     "traceback": [
      "\u001b[0;31m---------------------------------------------------------------------------\u001b[0m",
      "\u001b[0;31mNameError\u001b[0m                                 Traceback (most recent call last)",
      "Cell \u001b[0;32mIn[1], line 1\u001b[0m\n\u001b[0;32m----> 1\u001b[0m \u001b[38;5;28;01mimport\u001b[39;00m \u001b[38;5;21;01mMJOcast\u001b[39;00m\u001b[38;5;21;01m.\u001b[39;00m\u001b[38;5;21;01mutils\u001b[39;00m\u001b[38;5;21;01m.\u001b[39;00m\u001b[38;5;21;01mProcessForecasts\u001b[39;00m \u001b[38;5;28;01mas\u001b[39;00m \u001b[38;5;21;01mProFo\u001b[39;00m \n\u001b[1;32m      2\u001b[0m \u001b[38;5;28;01mimport\u001b[39;00m \u001b[38;5;21;01mMJOcast\u001b[39;00m\u001b[38;5;21;01m.\u001b[39;00m\u001b[38;5;21;01mutils\u001b[39;00m\u001b[38;5;21;01m.\u001b[39;00m\u001b[38;5;21;01mProcessOBS\u001b[39;00m \u001b[38;5;28;01mas\u001b[39;00m \u001b[38;5;21;01mProObs\u001b[39;00m\n\u001b[1;32m      3\u001b[0m \u001b[38;5;28;01mimport\u001b[39;00m \u001b[38;5;21;01mimportlib\u001b[39;00m\n",
      "File \u001b[0;32m/glade/work/wchapman/MJOcast/MJOcast/utils/ProcessForecasts.py:16\u001b[0m\n\u001b[1;32m     14\u001b[0m \u001b[38;5;28;01mfrom\u001b[39;00m \u001b[38;5;21;01mdatetime\u001b[39;00m \u001b[38;5;28;01mimport\u001b[39;00m datetime  \u001b[38;5;66;03m# For working with date and time\u001b[39;00m\n\u001b[1;32m     15\u001b[0m \u001b[38;5;28;01mimport\u001b[39;00m \u001b[38;5;21;01msys\u001b[39;00m  \u001b[38;5;66;03m# For interacting with the Python interpreter\u001b[39;00m\n\u001b[0;32m---> 16\u001b[0m \u001b[38;5;28;01mfrom\u001b[39;00m \u001b[38;5;21;01mMJOcast\u001b[39;00m\u001b[38;5;21;01m.\u001b[39;00m\u001b[38;5;21;01mutils\u001b[39;00m\u001b[38;5;21;01m.\u001b[39;00m\u001b[38;5;21;01mWHtools\u001b[39;00m \u001b[38;5;28;01mimport\u001b[39;00m (\n\u001b[1;32m     17\u001b[0m     interpolate_obs,  \u001b[38;5;66;03m# Custom utility functions for data manipulation\u001b[39;00m\n\u001b[1;32m     18\u001b[0m     check_or_create_paths,  \u001b[38;5;66;03m# Custom utility functions for file and directory management\u001b[39;00m\n\u001b[1;32m     19\u001b[0m     convert_dates_to_string,  \u001b[38;5;66;03m# Custom utility functions for date conversion\u001b[39;00m\n\u001b[1;32m     20\u001b[0m     check_lat_lon_coords,  \u001b[38;5;66;03m# Custom utility functions for coordinate validation\u001b[39;00m\n\u001b[1;32m     21\u001b[0m     flip_lat_if_necessary,  \u001b[38;5;66;03m# Custom utility functions for coordinate adjustment\u001b[39;00m\n\u001b[1;32m     22\u001b[0m     switch_lon_to_0_360,  \u001b[38;5;66;03m# Custom utility functions for coordinate adjustment\u001b[39;00m\n\u001b[1;32m     23\u001b[0m     plot_phase_space  \u001b[38;5;66;03m# Custom utility function for plotting MJO phase space\u001b[39;00m\n\u001b[1;32m     24\u001b[0m )\n\u001b[1;32m     26\u001b[0m \u001b[38;5;28;01mdef\u001b[39;00m \u001b[38;5;21mmake_DF_ense\u001b[39m(files):\n\u001b[1;32m     27\u001b[0m \u001b[38;5;250m    \u001b[39m\u001b[38;5;124;03m\"\"\"\u001b[39;00m\n\u001b[1;32m     28\u001b[0m \u001b[38;5;124;03m    Create a DataFrame with files and their corresponding initialization dates.\u001b[39;00m\n\u001b[1;32m     29\u001b[0m \n\u001b[0;32m   (...)\u001b[0m\n\u001b[1;32m     34\u001b[0m \u001b[38;5;124;03m        DF (pd.DataFrame): DataFrame containing files and their initialization dates.\u001b[39;00m\n\u001b[1;32m     35\u001b[0m \u001b[38;5;124;03m    \"\"\"\u001b[39;00m\n",
      "File \u001b[0;32m/glade/work/wchapman/MJOcast/MJOcast/utils/WHtools.py:80\u001b[0m\n\u001b[1;32m     77\u001b[0m         yaml\u001b[38;5;241m.\u001b[39mdump(Total_yaml, yaml_file, default_flow_style\u001b[38;5;241m=\u001b[39m\u001b[38;5;28;01mFalse\u001b[39;00m)\n\u001b[1;32m     79\u001b[0m \u001b[38;5;66;03m# Call the function with the desired variable values and filename\u001b[39;00m\n\u001b[0;32m---> 80\u001b[0m \u001b[43mCreate_Yaml\u001b[49m(\u001b[38;5;124m'\u001b[39m\u001b[38;5;124moutput.yaml\u001b[39m\u001b[38;5;124m'\u001b[39m, user_, base_dir, use_era5, usr_named_obs, obs_data_loc, forecast_data_loc, forecast_data_name_str, \n\u001b[1;32m     81\u001b[0m             forecast_olr_name, forecast_u200_name, forecast_u850_name, forecast_ensemble_dimension_name, \n\u001b[1;32m     82\u001b[0m             output_plot_loc, output_files_loc, output_files_string, use_forecast_climo, use_observed_climo, \n\u001b[1;32m     83\u001b[0m             regenerate_climo, use_dask_for_climo)\n\u001b[1;32m     86\u001b[0m \u001b[38;5;28;01mdef\u001b[39;00m \u001b[38;5;21mflip_lat_if_necessary\u001b[39m(data):\n\u001b[1;32m     87\u001b[0m \u001b[38;5;250m    \u001b[39m\u001b[38;5;124;03m\"\"\"\u001b[39;00m\n\u001b[1;32m     88\u001b[0m \u001b[38;5;124;03m    Check the orientation of the latitude dimension in an xarray dataset and flip it if necessary.\u001b[39;00m\n\u001b[1;32m     89\u001b[0m \n\u001b[0;32m   (...)\u001b[0m\n\u001b[1;32m     94\u001b[0m \u001b[38;5;124;03m        data_flipped (xr.Dataset): Flipped xarray dataset, if necessary.\u001b[39;00m\n\u001b[1;32m     95\u001b[0m \u001b[38;5;124;03m    \"\"\"\u001b[39;00m\n",
      "\u001b[0;31mNameError\u001b[0m: name 'Create_Yaml' is not defined"
     ]
    }
   ],
   "source": [
    "import MJOcast.utils.ProcessForecasts as ProFo \n",
    "import MJOcast.utils.ProcessOBS as ProObs\n",
    "import importlib"
   ]
  },
  {
   "cell_type": "code",
   "execution_count": null,
   "id": "c413dfc5-1d6d-42eb-81bd-83816e16512f",
   "metadata": {},
   "outputs": [],
   "source": []
  }
 ],
 "metadata": {
  "kernelspec": {
   "display_name": "Python (MJO_WH_for)",
   "language": "python",
   "name": "mjo_wh_for"
  },
  "language_info": {
   "codemirror_mode": {
    "name": "ipython",
    "version": 3
   },
   "file_extension": ".py",
   "mimetype": "text/x-python",
   "name": "python",
   "nbconvert_exporter": "python",
   "pygments_lexer": "ipython3",
   "version": "3.11.4"
  }
 },
 "nbformat": 4,
 "nbformat_minor": 5
}
