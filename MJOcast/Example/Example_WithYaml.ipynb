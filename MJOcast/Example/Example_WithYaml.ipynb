{
 "cells": [
  {
   "cell_type": "code",
   "execution_count": null,
   "id": "c50546e1-aa67-4cf2-ba33-f0c90428e378",
   "metadata": {},
   "outputs": [],
   "source": [
    "import MJOcast.utils.ProcessForecasts as ProFo \n",
    "import MJOcast.utils.ProcessOBS as ProObs\n",
    "import importlib"
   ]
  },
  {
   "cell_type": "code",
   "execution_count": null,
   "id": "c413dfc5-1d6d-42eb-81bd-83816e16512f",
   "metadata": {},
   "outputs": [],
   "source": []
  }
 ],
 "metadata": {
  "kernelspec": {
   "display_name": "Python (MJO_WH_for)",
   "language": "python",
   "name": "mjo_wh_for"
  },
  "language_info": {
   "codemirror_mode": {
    "name": "ipython",
    "version": 3
   },
   "file_extension": ".py",
   "mimetype": "text/x-python",
   "name": "python",
   "nbconvert_exporter": "python",
   "pygments_lexer": "ipython3",
   "version": "3.11.4"
  }
 },
 "nbformat": 4,
 "nbformat_minor": 5
}
